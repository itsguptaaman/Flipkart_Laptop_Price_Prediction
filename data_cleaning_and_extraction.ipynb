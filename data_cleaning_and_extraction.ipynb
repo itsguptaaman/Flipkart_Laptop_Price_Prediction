{
 "cells": [
  {
   "cell_type": "code",
   "execution_count": 1,
   "id": "7cbde6e0",
   "metadata": {},
   "outputs": [],
   "source": [
    "import numpy as np\n",
    "import pandas as pd\n",
    "import matplotlib.pyplot as plt\n",
    "import seaborn as sns\n",
    "import warnings\n",
    "warnings.filterwarnings(\"ignore\")\n",
    "%matplotlib inline"
   ]
  },
  {
   "cell_type": "code",
   "execution_count": 2,
   "id": "bcdb3656",
   "metadata": {},
   "outputs": [],
   "source": [
    "df = pd.read_csv(\"laptop_details.csv\")"
   ]
  },
  {
   "cell_type": "code",
   "execution_count": 3,
   "id": "53bd5650",
   "metadata": {},
   "outputs": [
    {
     "data": {
      "text/html": [
       "<div>\n",
       "<style scoped>\n",
       "    .dataframe tbody tr th:only-of-type {\n",
       "        vertical-align: middle;\n",
       "    }\n",
       "\n",
       "    .dataframe tbody tr th {\n",
       "        vertical-align: top;\n",
       "    }\n",
       "\n",
       "    .dataframe thead th {\n",
       "        text-align: right;\n",
       "    }\n",
       "</style>\n",
       "<table border=\"1\" class=\"dataframe\">\n",
       "  <thead>\n",
       "    <tr style=\"text-align: right;\">\n",
       "      <th></th>\n",
       "      <th>Product</th>\n",
       "      <th>Rating</th>\n",
       "      <th>MRP</th>\n",
       "      <th>Feature</th>\n",
       "    </tr>\n",
       "  </thead>\n",
       "  <tbody>\n",
       "    <tr>\n",
       "      <th>98</th>\n",
       "      <td>APPLE 2020 Macbook Air M1 - (8 GB/256 GB SSD/M...</td>\n",
       "      <td>4.7</td>\n",
       "      <td>₹88,990</td>\n",
       "      <td>Apple M1 Processor8 GB DDR4 RAMMac OS Operatin...</td>\n",
       "    </tr>\n",
       "    <tr>\n",
       "      <th>567</th>\n",
       "      <td>ASUS ROG Strix G15 Ryzen 7 Octa Core AMD R7-48...</td>\n",
       "      <td>4.6</td>\n",
       "      <td>₹85,990</td>\n",
       "      <td>AMD Ryzen 7 Octa Core Processor16 GB DDR4 RAMW...</td>\n",
       "    </tr>\n",
       "    <tr>\n",
       "      <th>606</th>\n",
       "      <td>RedmiBook Pro Core i5 11th Gen - (8 GB/512 GB ...</td>\n",
       "      <td>4.1</td>\n",
       "      <td>₹39,990</td>\n",
       "      <td>Intel Core i5 Processor (11th Gen)8 GB DDR4 RA...</td>\n",
       "    </tr>\n",
       "    <tr>\n",
       "      <th>174</th>\n",
       "      <td>ASUS Vivobook 14 (2022) Core i5 12th Gen - (8 ...</td>\n",
       "      <td>4.4</td>\n",
       "      <td>₹56,990</td>\n",
       "      <td>Intel Core i5 Processor (12th Gen)8 GB DDR4 RA...</td>\n",
       "    </tr>\n",
       "    <tr>\n",
       "      <th>378</th>\n",
       "      <td>Lenovo IdeaPad 3 Core i3 11th Gen - (8 GB/256 ...</td>\n",
       "      <td>NaN</td>\n",
       "      <td>₹37,000</td>\n",
       "      <td>Intel Core i3 Processor (11th Gen)8 GB DDR4 RA...</td>\n",
       "    </tr>\n",
       "  </tbody>\n",
       "</table>\n",
       "</div>"
      ],
      "text/plain": [
       "                                               Product  Rating      MRP  \\\n",
       "98   APPLE 2020 Macbook Air M1 - (8 GB/256 GB SSD/M...     4.7  ₹88,990   \n",
       "567  ASUS ROG Strix G15 Ryzen 7 Octa Core AMD R7-48...     4.6  ₹85,990   \n",
       "606  RedmiBook Pro Core i5 11th Gen - (8 GB/512 GB ...     4.1  ₹39,990   \n",
       "174  ASUS Vivobook 14 (2022) Core i5 12th Gen - (8 ...     4.4  ₹56,990   \n",
       "378  Lenovo IdeaPad 3 Core i3 11th Gen - (8 GB/256 ...     NaN  ₹37,000   \n",
       "\n",
       "                                               Feature  \n",
       "98   Apple M1 Processor8 GB DDR4 RAMMac OS Operatin...  \n",
       "567  AMD Ryzen 7 Octa Core Processor16 GB DDR4 RAMW...  \n",
       "606  Intel Core i5 Processor (11th Gen)8 GB DDR4 RA...  \n",
       "174  Intel Core i5 Processor (12th Gen)8 GB DDR4 RA...  \n",
       "378  Intel Core i3 Processor (11th Gen)8 GB DDR4 RA...  "
      ]
     },
     "execution_count": 3,
     "metadata": {},
     "output_type": "execute_result"
    }
   ],
   "source": [
    "df.sample(5)"
   ]
  },
  {
   "cell_type": "code",
   "execution_count": 4,
   "id": "435c3aac",
   "metadata": {},
   "outputs": [
    {
     "data": {
      "text/plain": [
       "(720, 4)"
      ]
     },
     "execution_count": 4,
     "metadata": {},
     "output_type": "execute_result"
    }
   ],
   "source": [
    "df.shape"
   ]
  },
  {
   "cell_type": "code",
   "execution_count": 5,
   "id": "bd5fe328",
   "metadata": {
    "scrolled": true
   },
   "outputs": [
    {
     "name": "stdout",
     "output_type": "stream",
     "text": [
      "<class 'pandas.core.frame.DataFrame'>\n",
      "RangeIndex: 720 entries, 0 to 719\n",
      "Data columns (total 4 columns):\n",
      " #   Column   Non-Null Count  Dtype  \n",
      "---  ------   --------------  -----  \n",
      " 0   Product  720 non-null    object \n",
      " 1   Rating   581 non-null    float64\n",
      " 2   MRP      720 non-null    object \n",
      " 3   Feature  720 non-null    object \n",
      "dtypes: float64(1), object(3)\n",
      "memory usage: 22.6+ KB\n"
     ]
    }
   ],
   "source": [
    "df.info()"
   ]
  },
  {
   "cell_type": "code",
   "execution_count": 6,
   "id": "7da8619e",
   "metadata": {},
   "outputs": [],
   "source": [
    "data = df.copy()"
   ]
  },
  {
   "cell_type": "code",
   "execution_count": 7,
   "id": "6d7004dd",
   "metadata": {},
   "outputs": [
    {
     "data": {
      "text/plain": [
       "297"
      ]
     },
     "execution_count": 7,
     "metadata": {},
     "output_type": "execute_result"
    }
   ],
   "source": [
    "df.duplicated().sum()"
   ]
  },
  {
   "cell_type": "code",
   "execution_count": 8,
   "id": "1613eff6",
   "metadata": {},
   "outputs": [],
   "source": [
    "# We dont need duplicate values so we are dropping them\n",
    "df = df.drop_duplicates().reset_index(drop=True)"
   ]
  },
  {
   "cell_type": "code",
   "execution_count": 9,
   "id": "f8113d97",
   "metadata": {},
   "outputs": [
    {
     "data": {
      "text/plain": [
       "(423, 4)"
      ]
     },
     "execution_count": 9,
     "metadata": {},
     "output_type": "execute_result"
    }
   ],
   "source": [
    "df.shape"
   ]
  },
  {
   "cell_type": "code",
   "execution_count": 10,
   "id": "412c7289",
   "metadata": {},
   "outputs": [
    {
     "name": "stdout",
     "output_type": "stream",
     "text": [
      "<class 'pandas.core.frame.DataFrame'>\n",
      "RangeIndex: 423 entries, 0 to 422\n",
      "Data columns (total 4 columns):\n",
      " #   Column   Non-Null Count  Dtype  \n",
      "---  ------   --------------  -----  \n",
      " 0   Product  423 non-null    object \n",
      " 1   Rating   339 non-null    float64\n",
      " 2   MRP      423 non-null    object \n",
      " 3   Feature  423 non-null    object \n",
      "dtypes: float64(1), object(3)\n",
      "memory usage: 13.3+ KB\n"
     ]
    }
   ],
   "source": [
    "df.info()"
   ]
  },
  {
   "cell_type": "code",
   "execution_count": 11,
   "id": "36f6a8a3",
   "metadata": {},
   "outputs": [],
   "source": [
    "# Handelling the missing values"
   ]
  },
  {
   "cell_type": "code",
   "execution_count": 12,
   "id": "2c552385",
   "metadata": {},
   "outputs": [
    {
     "data": {
      "text/plain": [
       "<AxesSubplot:xlabel='Rating'>"
      ]
     },
     "execution_count": 12,
     "metadata": {},
     "output_type": "execute_result"
    },
    {
     "data": {
      "image/png": "[encoded data removed]",
      "text/plain": [
       "<Figure size 432x288 with 1 Axes>"
      ]
     },
     "metadata": {
      "needs_background": "light"
     },
     "output_type": "display_data"
    }
   ],
   "source": [
    "sns.boxplot(df[\"Rating\"])"
   ]
  },
  {
   "cell_type": "code",
   "execution_count": 13,
   "id": "c580c432",
   "metadata": {},
   "outputs": [
    {
     "data": {
      "text/plain": [
       "count    339.000000\n",
       "mean       4.316224\n",
       "std        0.299905\n",
       "min        3.000000\n",
       "25%        4.200000\n",
       "50%        4.300000\n",
       "75%        4.500000\n",
       "max        5.000000\n",
       "Name: Rating, dtype: float64"
      ]
     },
     "execution_count": 13,
     "metadata": {},
     "output_type": "execute_result"
    }
   ],
   "source": [
    "df[\"Rating\"].describe()"
   ]
  },
  {
   "cell_type": "code",
   "execution_count": 14,
   "id": "aa4c4ae3",
   "metadata": {},
   "outputs": [
    {
     "data": {
      "text/plain": [
       "<AxesSubplot:ylabel='Density'>"
      ]
     },
     "execution_count": 14,
     "metadata": {},
     "output_type": "execute_result"
    },
    {
     "data": {
      "image/png": "[encoded data removed]",
      "text/plain": [
       "<Figure size 432x288 with 1 Axes>"
      ]
     },
     "metadata": {
      "needs_background": "light"
     },
     "output_type": "display_data"
    }
   ],
   "source": [
    "df[\"Rating\"].plot(kind=\"kde\")"
   ]
  },
  {
   "cell_type": "code",
   "execution_count": 15,
   "id": "52832aa1",
   "metadata": {},
   "outputs": [
    {
     "data": {
      "text/plain": [
       "Product    0.000000\n",
       "Rating     0.198582\n",
       "MRP        0.000000\n",
       "Feature    0.000000\n",
       "dtype: float64"
      ]
     },
     "execution_count": 15,
     "metadata": {},
     "output_type": "execute_result"
    }
   ],
   "source": [
    "# 19% of data is missing in rating colum\n",
    "df.isnull().mean()"
   ]
  },
  {
   "cell_type": "markdown",
   "id": "94f237c0",
   "metadata": {},
   "source": [
    "**Observation**\n",
    "* Our mean and meadian are very close even though we have outliers"
   ]
  },
  {
   "cell_type": "code",
   "execution_count": 16,
   "id": "3376acfe",
   "metadata": {},
   "outputs": [
    {
     "data": {
      "text/plain": [
       "0.08994309751968008"
      ]
     },
     "execution_count": 16,
     "metadata": {},
     "output_type": "execute_result"
    }
   ],
   "source": [
    "df[\"Rating\"].var()"
   ]
  },
  {
   "cell_type": "code",
   "execution_count": 17,
   "id": "ee7e7cca",
   "metadata": {},
   "outputs": [
    {
     "data": {
      "text/plain": [
       "0.07208172274321337"
      ]
     },
     "execution_count": 17,
     "metadata": {},
     "output_type": "execute_result"
    }
   ],
   "source": [
    "df[\"Rating\"].fillna(df[\"Rating\"].median()).var()"
   ]
  },
  {
   "cell_type": "code",
   "execution_count": 18,
   "id": "cdc7c84c",
   "metadata": {},
   "outputs": [
    {
     "data": {
      "text/plain": [
       "<AxesSubplot:ylabel='Density'>"
      ]
     },
     "execution_count": 18,
     "metadata": {},
     "output_type": "execute_result"
    },
    {
     "data": {
      "image/png": "[encoded data removed]",
      "text/plain": [
       "<Figure size 432x288 with 1 Axes>"
      ]
     },
     "metadata": {
      "needs_background": "light"
     },
     "output_type": "display_data"
    }
   ],
   "source": [
    "df[\"Rating\"].fillna(df[\"Rating\"].median()).plot(kind=\"kde\")"
   ]
  },
  {
   "cell_type": "markdown",
   "id": "0b683452",
   "metadata": {},
   "source": [
    "### Observation\n",
    "* After imputing the distribution of the rating is getting streched little so we are going to use random sample imputation"
   ]
  },
  {
   "cell_type": "code",
   "execution_count": 19,
   "id": "3b69e620",
   "metadata": {},
   "outputs": [],
   "source": [
    "def Random_Sample_imputation(feature):\n",
    "    random_sample = df[feature].dropna().sample(df[feature].isnull().sum())               \n",
    "    random_sample.index = df[df[feature].isnull()].index\n",
    "    df.loc[df[feature].isnull(),feature] = random_sample"
   ]
  },
  {
   "cell_type": "code",
   "execution_count": 20,
   "id": "68bed4be",
   "metadata": {},
   "outputs": [],
   "source": [
    "Random_Sample_imputation(\"Rating\")"
   ]
  },
  {
   "cell_type": "code",
   "execution_count": 21,
   "id": "21a4eeae",
   "metadata": {},
   "outputs": [
    {
     "data": {
      "text/plain": [
       "0.08750831904809922"
      ]
     },
     "execution_count": 21,
     "metadata": {},
     "output_type": "execute_result"
    }
   ],
   "source": [
    "df[\"Rating\"].var()"
   ]
  },
  {
   "cell_type": "code",
   "execution_count": 22,
   "id": "7dbff902",
   "metadata": {},
   "outputs": [
    {
     "data": {
      "text/plain": [
       "<AxesSubplot:ylabel='Density'>"
      ]
     },
     "execution_count": 22,
     "metadata": {},
     "output_type": "execute_result"
    },
    {
     "data": {
      "image/png": "[encoded data removed]",
      "text/plain": [
       "<Figure size 432x288 with 1 Axes>"
      ]
     },
     "metadata": {
      "needs_background": "light"
     },
     "output_type": "display_data"
    }
   ],
   "source": [
    "df[\"Rating\"].plot(kind=\"kde\")"
   ]
  },
  {
   "cell_type": "code",
   "execution_count": 23,
   "id": "14e52bda",
   "metadata": {},
   "outputs": [
    {
     "data": {
      "text/plain": [
       "Product    0.0\n",
       "Rating     0.0\n",
       "MRP        0.0\n",
       "Feature    0.0\n",
       "dtype: float64"
      ]
     },
     "execution_count": 23,
     "metadata": {},
     "output_type": "execute_result"
    }
   ],
   "source": [
    "df.isnull().mean()"
   ]
  },
  {
   "cell_type": "code",
   "execution_count": 24,
   "id": "76590a27",
   "metadata": {},
   "outputs": [
    {
     "data": {
      "text/html": [
       "<div>\n",
       "<style scoped>\n",
       "    .dataframe tbody tr th:only-of-type {\n",
       "        vertical-align: middle;\n",
       "    }\n",
       "\n",
       "    .dataframe tbody tr th {\n",
       "        vertical-align: top;\n",
       "    }\n",
       "\n",
       "    .dataframe thead th {\n",
       "        text-align: right;\n",
       "    }\n",
       "</style>\n",
       "<table border=\"1\" class=\"dataframe\">\n",
       "  <thead>\n",
       "    <tr style=\"text-align: right;\">\n",
       "      <th></th>\n",
       "      <th>Product</th>\n",
       "      <th>Rating</th>\n",
       "      <th>MRP</th>\n",
       "      <th>Feature</th>\n",
       "    </tr>\n",
       "  </thead>\n",
       "  <tbody>\n",
       "    <tr>\n",
       "      <th>0</th>\n",
       "      <td>Lenovo IdeaPad 3 Core i3 11th Gen - (8 GB/256 ...</td>\n",
       "      <td>4.2</td>\n",
       "      <td>₹36,990</td>\n",
       "      <td>Intel Core i3 Processor (11th Gen)8 GB DDR4 RA...</td>\n",
       "    </tr>\n",
       "    <tr>\n",
       "      <th>1</th>\n",
       "      <td>Lenovo IdeaPad 3 Core i3 11th Gen - (8 GB/512 ...</td>\n",
       "      <td>4.2</td>\n",
       "      <td>₹39,990</td>\n",
       "      <td>Intel Core i3 Processor (11th Gen)8 GB DDR4 RA...</td>\n",
       "    </tr>\n",
       "    <tr>\n",
       "      <th>2</th>\n",
       "      <td>ASUS VivoBook 15 (2022) Core i3 10th Gen - (8 ...</td>\n",
       "      <td>4.3</td>\n",
       "      <td>₹32,990</td>\n",
       "      <td>Intel Core i3 Processor (10th Gen)8 GB DDR4 RA...</td>\n",
       "    </tr>\n",
       "    <tr>\n",
       "      <th>3</th>\n",
       "      <td>HP Pavilion Ryzen 5 Hexa Core AMD R5-5600H - (...</td>\n",
       "      <td>4.4</td>\n",
       "      <td>₹49,990</td>\n",
       "      <td>AMD Ryzen 5 Hexa Core Processor8 GB DDR4 RAM64...</td>\n",
       "    </tr>\n",
       "    <tr>\n",
       "      <th>4</th>\n",
       "      <td>ASUS TUF Gaming F15 Core i5 10th Gen - (8 GB/5...</td>\n",
       "      <td>4.4</td>\n",
       "      <td>₹49,990</td>\n",
       "      <td>Intel Core i5 Processor (10th Gen)8 GB DDR4 RA...</td>\n",
       "    </tr>\n",
       "  </tbody>\n",
       "</table>\n",
       "</div>"
      ],
      "text/plain": [
       "                                             Product  Rating      MRP  \\\n",
       "0  Lenovo IdeaPad 3 Core i3 11th Gen - (8 GB/256 ...     4.2  ₹36,990   \n",
       "1  Lenovo IdeaPad 3 Core i3 11th Gen - (8 GB/512 ...     4.2  ₹39,990   \n",
       "2  ASUS VivoBook 15 (2022) Core i3 10th Gen - (8 ...     4.3  ₹32,990   \n",
       "3  HP Pavilion Ryzen 5 Hexa Core AMD R5-5600H - (...     4.4  ₹49,990   \n",
       "4  ASUS TUF Gaming F15 Core i5 10th Gen - (8 GB/5...     4.4  ₹49,990   \n",
       "\n",
       "                                             Feature  \n",
       "0  Intel Core i3 Processor (11th Gen)8 GB DDR4 RA...  \n",
       "1  Intel Core i3 Processor (11th Gen)8 GB DDR4 RA...  \n",
       "2  Intel Core i3 Processor (10th Gen)8 GB DDR4 RA...  \n",
       "3  AMD Ryzen 5 Hexa Core Processor8 GB DDR4 RAM64...  \n",
       "4  Intel Core i5 Processor (10th Gen)8 GB DDR4 RA...  "
      ]
     },
     "execution_count": 24,
     "metadata": {},
     "output_type": "execute_result"
    }
   ],
   "source": [
    "df.head()"
   ]
  },
  {
   "cell_type": "code",
   "execution_count": 25,
   "id": "b711fca5",
   "metadata": {},
   "outputs": [
    {
     "data": {
      "text/plain": [
       "'Lenovo IdeaPad 3 Core i3 11th Gen - (8 GB/256 GB SSD/Windows 11 Home) 14ITL05 Thin and Light Laptop'"
      ]
     },
     "execution_count": 25,
     "metadata": {},
     "output_type": "execute_result"
    }
   ],
   "source": [
    "df[\"Product\"][0]"
   ]
  },
  {
   "cell_type": "code",
   "execution_count": 26,
   "id": "69b073fa",
   "metadata": {
    "scrolled": true
   },
   "outputs": [
    {
     "data": {
      "text/plain": [
       "'Intel Core i3 Processor (11th Gen)8 GB DDR4 RAM64 bit Windows 11 Operating System256 GB SSD35.56 cm (14 inch) DisplayOffice Home and Student 20212 Year Onsite�Warranty'"
      ]
     },
     "execution_count": 26,
     "metadata": {},
     "output_type": "execute_result"
    }
   ],
   "source": [
    "df[\"Feature\"][0]"
   ]
  },
  {
   "cell_type": "code",
   "execution_count": 27,
   "id": "5796e677",
   "metadata": {},
   "outputs": [],
   "source": [
    "df1 = pd.DataFrame()"
   ]
  },
  {
   "cell_type": "code",
   "execution_count": 28,
   "id": "780b02d6",
   "metadata": {},
   "outputs": [],
   "source": [
    "df1[\"company_name\"] = df[\"Product\"].apply(lambda x : x.split(\" \")[0])"
   ]
  },
  {
   "cell_type": "code",
   "execution_count": 29,
   "id": "86bfde3e",
   "metadata": {},
   "outputs": [],
   "source": [
    "df1[\"model_name\"] = df[\"Product\"].apply(lambda x : x.split(\" \")[:6])"
   ]
  },
  {
   "cell_type": "code",
   "execution_count": 30,
   "id": "abda727b",
   "metadata": {},
   "outputs": [],
   "source": [
    "df1[\"model_name\"] = df1[\"model_name\"].apply(lambda x : \" \".join(x))"
   ]
  },
  {
   "cell_type": "code",
   "execution_count": 31,
   "id": "31c51ba8",
   "metadata": {},
   "outputs": [],
   "source": [
    "df1[\"processor_name\"] = df[\"Feature\"].apply(lambda x : x.split(\"Processor\")[0])"
   ]
  },
  {
   "cell_type": "code",
   "execution_count": 32,
   "id": "0e523e7a",
   "metadata": {},
   "outputs": [],
   "source": [
    "df1[\"ram\"] = df[\"Feature\"].apply(lambda x : x.split(\"Processor\")[1].split(\"RAM\")[0].split(\")\")[-1])"
   ]
  },
  {
   "cell_type": "code",
   "execution_count": 33,
   "id": "18a01e9c",
   "metadata": {},
   "outputs": [],
   "source": [
    "df1[\"processor_generation\"] = df[\"Feature\"].apply(lambda x : x.split(\"Processor\")[1].split(\"RAM\")[0].split(\")\")[0].split(\"(\")[-1])"
   ]
  },
  {
   "cell_type": "code",
   "execution_count": 34,
   "id": "37b046f2",
   "metadata": {},
   "outputs": [
    {
     "data": {
      "text/html": [
       "<div>\n",
       "<style scoped>\n",
       "    .dataframe tbody tr th:only-of-type {\n",
       "        vertical-align: middle;\n",
       "    }\n",
       "\n",
       "    .dataframe tbody tr th {\n",
       "        vertical-align: top;\n",
       "    }\n",
       "\n",
       "    .dataframe thead th {\n",
       "        text-align: right;\n",
       "    }\n",
       "</style>\n",
       "<table border=\"1\" class=\"dataframe\">\n",
       "  <thead>\n",
       "    <tr style=\"text-align: right;\">\n",
       "      <th></th>\n",
       "      <th>company_name</th>\n",
       "      <th>model_name</th>\n",
       "      <th>processor_name</th>\n",
       "      <th>ram</th>\n",
       "      <th>processor_generation</th>\n",
       "    </tr>\n",
       "  </thead>\n",
       "  <tbody>\n",
       "    <tr>\n",
       "      <th>0</th>\n",
       "      <td>Lenovo</td>\n",
       "      <td>Lenovo IdeaPad 3 Core i3 11th</td>\n",
       "      <td>Intel Core i3</td>\n",
       "      <td>8 GB DDR4</td>\n",
       "      <td>11th Gen</td>\n",
       "    </tr>\n",
       "    <tr>\n",
       "      <th>1</th>\n",
       "      <td>Lenovo</td>\n",
       "      <td>Lenovo IdeaPad 3 Core i3 11th</td>\n",
       "      <td>Intel Core i3</td>\n",
       "      <td>8 GB DDR4</td>\n",
       "      <td>11th Gen</td>\n",
       "    </tr>\n",
       "    <tr>\n",
       "      <th>2</th>\n",
       "      <td>ASUS</td>\n",
       "      <td>ASUS VivoBook 15 (2022) Core i3</td>\n",
       "      <td>Intel Core i3</td>\n",
       "      <td>8 GB DDR4</td>\n",
       "      <td>10th Gen</td>\n",
       "    </tr>\n",
       "    <tr>\n",
       "      <th>3</th>\n",
       "      <td>HP</td>\n",
       "      <td>HP Pavilion Ryzen 5 Hexa Core</td>\n",
       "      <td>AMD Ryzen 5 Hexa Core</td>\n",
       "      <td>8 GB DDR4</td>\n",
       "      <td>8 GB DDR4</td>\n",
       "    </tr>\n",
       "    <tr>\n",
       "      <th>4</th>\n",
       "      <td>ASUS</td>\n",
       "      <td>ASUS TUF Gaming F15 Core i5</td>\n",
       "      <td>Intel Core i5</td>\n",
       "      <td>8 GB DDR4</td>\n",
       "      <td>10th Gen</td>\n",
       "    </tr>\n",
       "    <tr>\n",
       "      <th>...</th>\n",
       "      <td>...</td>\n",
       "      <td>...</td>\n",
       "      <td>...</td>\n",
       "      <td>...</td>\n",
       "      <td>...</td>\n",
       "    </tr>\n",
       "    <tr>\n",
       "      <th>418</th>\n",
       "      <td>DELL</td>\n",
       "      <td>DELL Core i5 12th Gen -</td>\n",
       "      <td>Intel Core i5</td>\n",
       "      <td>16 GB DDR5</td>\n",
       "      <td>12th Gen</td>\n",
       "    </tr>\n",
       "    <tr>\n",
       "      <th>419</th>\n",
       "      <td>HP</td>\n",
       "      <td>HP Pavilion Ryzen 7 Octa Core</td>\n",
       "      <td>AMD Ryzen 7 Octa Core</td>\n",
       "      <td>16 GB DDR4</td>\n",
       "      <td>16 GB DDR4</td>\n",
       "    </tr>\n",
       "    <tr>\n",
       "      <th>420</th>\n",
       "      <td>ASUS</td>\n",
       "      <td>ASUS Chromebook Flip Touch Celeron Dual</td>\n",
       "      <td>Intel Celeron Dual Core</td>\n",
       "      <td>4 GB LPDDR4</td>\n",
       "      <td>4 GB LPDDR4</td>\n",
       "    </tr>\n",
       "    <tr>\n",
       "      <th>421</th>\n",
       "      <td>ASUS</td>\n",
       "      <td>ASUS Zenbook Flip 14 OLED (2022)</td>\n",
       "      <td>Intel Core i7</td>\n",
       "      <td>16 GB LPDDR5</td>\n",
       "      <td>12th Gen</td>\n",
       "    </tr>\n",
       "    <tr>\n",
       "      <th>422</th>\n",
       "      <td>Lenovo</td>\n",
       "      <td>Lenovo Ideapad Slim 3i Core i5</td>\n",
       "      <td>Intel Core i5</td>\n",
       "      <td>8 GB DDR4</td>\n",
       "      <td>10th Gen</td>\n",
       "    </tr>\n",
       "  </tbody>\n",
       "</table>\n",
       "<p>423 rows × 5 columns</p>\n",
       "</div>"
      ],
      "text/plain": [
       "    company_name                               model_name  \\\n",
       "0         Lenovo            Lenovo IdeaPad 3 Core i3 11th   \n",
       "1         Lenovo            Lenovo IdeaPad 3 Core i3 11th   \n",
       "2           ASUS          ASUS VivoBook 15 (2022) Core i3   \n",
       "3             HP            HP Pavilion Ryzen 5 Hexa Core   \n",
       "4           ASUS              ASUS TUF Gaming F15 Core i5   \n",
       "..           ...                                      ...   \n",
       "418         DELL                  DELL Core i5 12th Gen -   \n",
       "419           HP            HP Pavilion Ryzen 7 Octa Core   \n",
       "420         ASUS  ASUS Chromebook Flip Touch Celeron Dual   \n",
       "421         ASUS         ASUS Zenbook Flip 14 OLED (2022)   \n",
       "422       Lenovo           Lenovo Ideapad Slim 3i Core i5   \n",
       "\n",
       "               processor_name            ram processor_generation  \n",
       "0              Intel Core i3      8 GB DDR4              11th Gen  \n",
       "1              Intel Core i3      8 GB DDR4              11th Gen  \n",
       "2              Intel Core i3      8 GB DDR4              10th Gen  \n",
       "3      AMD Ryzen 5 Hexa Core      8 GB DDR4            8 GB DDR4   \n",
       "4              Intel Core i5      8 GB DDR4              10th Gen  \n",
       "..                        ...            ...                  ...  \n",
       "418            Intel Core i5     16 GB DDR5              12th Gen  \n",
       "419    AMD Ryzen 7 Octa Core     16 GB DDR4           16 GB DDR4   \n",
       "420  Intel Celeron Dual Core    4 GB LPDDR4          4 GB LPDDR4   \n",
       "421            Intel Core i7   16 GB LPDDR5              12th Gen  \n",
       "422            Intel Core i5      8 GB DDR4              10th Gen  \n",
       "\n",
       "[423 rows x 5 columns]"
      ]
     },
     "execution_count": 34,
     "metadata": {},
     "output_type": "execute_result"
    }
   ],
   "source": [
    "df1"
   ]
  },
  {
   "cell_type": "code",
   "execution_count": 35,
   "id": "94ca303d",
   "metadata": {},
   "outputs": [],
   "source": [
    "df1[\"operating_system\"] = df[\"Feature\"].apply(lambda x : x.split(\"Processor\")[1].split(\"RAM\")[-1].split(\"Operating System\")[0])"
   ]
  },
  {
   "cell_type": "code",
   "execution_count": 36,
   "id": "1995ff7c",
   "metadata": {},
   "outputs": [],
   "source": [
    "df1[\"storage\"] = df[\"Feature\"].apply(lambda x : x.split(\"Processor\")[1].split(\"RAM\")[-1].split(\"Operating System\")[-1].split(\"Display\")[0].split(\"cm\")[0])"
   ]
  },
  {
   "cell_type": "code",
   "execution_count": 37,
   "id": "0f9eec9f",
   "metadata": {},
   "outputs": [
    {
     "data": {
      "text/html": [
       "<div>\n",
       "<style scoped>\n",
       "    .dataframe tbody tr th:only-of-type {\n",
       "        vertical-align: middle;\n",
       "    }\n",
       "\n",
       "    .dataframe tbody tr th {\n",
       "        vertical-align: top;\n",
       "    }\n",
       "\n",
       "    .dataframe thead th {\n",
       "        text-align: right;\n",
       "    }\n",
       "</style>\n",
       "<table border=\"1\" class=\"dataframe\">\n",
       "  <thead>\n",
       "    <tr style=\"text-align: right;\">\n",
       "      <th></th>\n",
       "      <th>company_name</th>\n",
       "      <th>model_name</th>\n",
       "      <th>processor_name</th>\n",
       "      <th>ram</th>\n",
       "      <th>processor_generation</th>\n",
       "      <th>operating_system</th>\n",
       "      <th>storage</th>\n",
       "    </tr>\n",
       "  </thead>\n",
       "  <tbody>\n",
       "    <tr>\n",
       "      <th>0</th>\n",
       "      <td>Lenovo</td>\n",
       "      <td>Lenovo IdeaPad 3 Core i3 11th</td>\n",
       "      <td>Intel Core i3</td>\n",
       "      <td>8 GB DDR4</td>\n",
       "      <td>11th Gen</td>\n",
       "      <td>64 bit Windows 11</td>\n",
       "      <td>256 GB SSD35.56</td>\n",
       "    </tr>\n",
       "    <tr>\n",
       "      <th>1</th>\n",
       "      <td>Lenovo</td>\n",
       "      <td>Lenovo IdeaPad 3 Core i3 11th</td>\n",
       "      <td>Intel Core i3</td>\n",
       "      <td>8 GB DDR4</td>\n",
       "      <td>11th Gen</td>\n",
       "      <td>64 bit Windows 11</td>\n",
       "      <td>512 GB SSD39.62</td>\n",
       "    </tr>\n",
       "    <tr>\n",
       "      <th>2</th>\n",
       "      <td>ASUS</td>\n",
       "      <td>ASUS VivoBook 15 (2022) Core i3</td>\n",
       "      <td>Intel Core i3</td>\n",
       "      <td>8 GB DDR4</td>\n",
       "      <td>10th Gen</td>\n",
       "      <td>64 bit Windows 11</td>\n",
       "      <td>512 GB SSD39.62</td>\n",
       "    </tr>\n",
       "    <tr>\n",
       "      <th>3</th>\n",
       "      <td>HP</td>\n",
       "      <td>HP Pavilion Ryzen 5 Hexa Core</td>\n",
       "      <td>AMD Ryzen 5 Hexa Core</td>\n",
       "      <td>8 GB DDR4</td>\n",
       "      <td>8 GB DDR4</td>\n",
       "      <td>64 bit Windows 10</td>\n",
       "      <td>512 GB SSD39.62</td>\n",
       "    </tr>\n",
       "    <tr>\n",
       "      <th>4</th>\n",
       "      <td>ASUS</td>\n",
       "      <td>ASUS TUF Gaming F15 Core i5</td>\n",
       "      <td>Intel Core i5</td>\n",
       "      <td>8 GB DDR4</td>\n",
       "      <td>10th Gen</td>\n",
       "      <td>Windows 11</td>\n",
       "      <td>512 GB SSD39.62</td>\n",
       "    </tr>\n",
       "    <tr>\n",
       "      <th>...</th>\n",
       "      <td>...</td>\n",
       "      <td>...</td>\n",
       "      <td>...</td>\n",
       "      <td>...</td>\n",
       "      <td>...</td>\n",
       "      <td>...</td>\n",
       "      <td>...</td>\n",
       "    </tr>\n",
       "    <tr>\n",
       "      <th>418</th>\n",
       "      <td>DELL</td>\n",
       "      <td>DELL Core i5 12th Gen -</td>\n",
       "      <td>Intel Core i5</td>\n",
       "      <td>16 GB DDR5</td>\n",
       "      <td>12th Gen</td>\n",
       "      <td>64 bit Windows 11</td>\n",
       "      <td>512 GB SSD33.78</td>\n",
       "    </tr>\n",
       "    <tr>\n",
       "      <th>419</th>\n",
       "      <td>HP</td>\n",
       "      <td>HP Pavilion Ryzen 7 Octa Core</td>\n",
       "      <td>AMD Ryzen 7 Octa Core</td>\n",
       "      <td>16 GB DDR4</td>\n",
       "      <td>16 GB DDR4</td>\n",
       "      <td>64 bit Windows 10</td>\n",
       "      <td>512 GB SSD39.62</td>\n",
       "    </tr>\n",
       "    <tr>\n",
       "      <th>420</th>\n",
       "      <td>ASUS</td>\n",
       "      <td>ASUS Chromebook Flip Touch Celeron Dual</td>\n",
       "      <td>Intel Celeron Dual Core</td>\n",
       "      <td>4 GB LPDDR4</td>\n",
       "      <td>4 GB LPDDR4</td>\n",
       "      <td>Chrome</td>\n",
       "      <td>29.46</td>\n",
       "    </tr>\n",
       "    <tr>\n",
       "      <th>421</th>\n",
       "      <td>ASUS</td>\n",
       "      <td>ASUS Zenbook Flip 14 OLED (2022)</td>\n",
       "      <td>Intel Core i7</td>\n",
       "      <td>16 GB LPDDR5</td>\n",
       "      <td>12th Gen</td>\n",
       "      <td>64 bit Windows 11</td>\n",
       "      <td>512 GB SSD35.56</td>\n",
       "    </tr>\n",
       "    <tr>\n",
       "      <th>422</th>\n",
       "      <td>Lenovo</td>\n",
       "      <td>Lenovo Ideapad Slim 3i Core i5</td>\n",
       "      <td>Intel Core i5</td>\n",
       "      <td>8 GB DDR4</td>\n",
       "      <td>10th Gen</td>\n",
       "      <td>64 bit Windows 10</td>\n",
       "      <td>1 TB HDD|256 GB SSD39.62</td>\n",
       "    </tr>\n",
       "  </tbody>\n",
       "</table>\n",
       "<p>423 rows × 7 columns</p>\n",
       "</div>"
      ],
      "text/plain": [
       "    company_name                               model_name  \\\n",
       "0         Lenovo            Lenovo IdeaPad 3 Core i3 11th   \n",
       "1         Lenovo            Lenovo IdeaPad 3 Core i3 11th   \n",
       "2           ASUS          ASUS VivoBook 15 (2022) Core i3   \n",
       "3             HP            HP Pavilion Ryzen 5 Hexa Core   \n",
       "4           ASUS              ASUS TUF Gaming F15 Core i5   \n",
       "..           ...                                      ...   \n",
       "418         DELL                  DELL Core i5 12th Gen -   \n",
       "419           HP            HP Pavilion Ryzen 7 Octa Core   \n",
       "420         ASUS  ASUS Chromebook Flip Touch Celeron Dual   \n",
       "421         ASUS         ASUS Zenbook Flip 14 OLED (2022)   \n",
       "422       Lenovo           Lenovo Ideapad Slim 3i Core i5   \n",
       "\n",
       "               processor_name            ram processor_generation  \\\n",
       "0              Intel Core i3      8 GB DDR4              11th Gen   \n",
       "1              Intel Core i3      8 GB DDR4              11th Gen   \n",
       "2              Intel Core i3      8 GB DDR4              10th Gen   \n",
       "3      AMD Ryzen 5 Hexa Core      8 GB DDR4            8 GB DDR4    \n",
       "4              Intel Core i5      8 GB DDR4              10th Gen   \n",
       "..                        ...            ...                  ...   \n",
       "418            Intel Core i5     16 GB DDR5              12th Gen   \n",
       "419    AMD Ryzen 7 Octa Core     16 GB DDR4           16 GB DDR4    \n",
       "420  Intel Celeron Dual Core    4 GB LPDDR4          4 GB LPDDR4    \n",
       "421            Intel Core i7   16 GB LPDDR5              12th Gen   \n",
       "422            Intel Core i5      8 GB DDR4              10th Gen   \n",
       "\n",
       "       operating_system                    storage  \n",
       "0    64 bit Windows 11            256 GB SSD35.56   \n",
       "1    64 bit Windows 11            512 GB SSD39.62   \n",
       "2    64 bit Windows 11            512 GB SSD39.62   \n",
       "3    64 bit Windows 10            512 GB SSD39.62   \n",
       "4           Windows 11            512 GB SSD39.62   \n",
       "..                  ...                        ...  \n",
       "418  64 bit Windows 11            512 GB SSD33.78   \n",
       "419  64 bit Windows 10            512 GB SSD39.62   \n",
       "420             Chrome                      29.46   \n",
       "421  64 bit Windows 11            512 GB SSD35.56   \n",
       "422  64 bit Windows 10   1 TB HDD|256 GB SSD39.62   \n",
       "\n",
       "[423 rows x 7 columns]"
      ]
     },
     "execution_count": 37,
     "metadata": {},
     "output_type": "execute_result"
    }
   ],
   "source": [
    "df1"
   ]
  },
  {
   "cell_type": "code",
   "execution_count": 42,
   "id": "e0312d7e",
   "metadata": {},
   "outputs": [],
   "source": [
    "df1[\"screen_size\"] = df[\"Feature\"].apply(lambda x : x.split(\"Processor\")[1].split(\"RAM\")[-1].split(\"Operating System\")[-1].split(\"Display\")[0].split(\"cm\")[-1])"
   ]
  },
  {
   "cell_type": "code",
   "execution_count": 43,
   "id": "97ef980a",
   "metadata": {},
   "outputs": [],
   "source": [
    "df1[\"rating\"] = df[\"Rating\"]\n",
    "df1[\"price\"] = df[\"MRP\"]"
   ]
  },
  {
   "cell_type": "code",
   "execution_count": 44,
   "id": "60c08f26",
   "metadata": {},
   "outputs": [
    {
     "data": {
      "text/html": [
       "<div>\n",
       "<style scoped>\n",
       "    .dataframe tbody tr th:only-of-type {\n",
       "        vertical-align: middle;\n",
       "    }\n",
       "\n",
       "    .dataframe tbody tr th {\n",
       "        vertical-align: top;\n",
       "    }\n",
       "\n",
       "    .dataframe thead th {\n",
       "        text-align: right;\n",
       "    }\n",
       "</style>\n",
       "<table border=\"1\" class=\"dataframe\">\n",
       "  <thead>\n",
       "    <tr style=\"text-align: right;\">\n",
       "      <th></th>\n",
       "      <th>company_name</th>\n",
       "      <th>model_name</th>\n",
       "      <th>processor_name</th>\n",
       "      <th>ram</th>\n",
       "      <th>processor_generation</th>\n",
       "      <th>operating_system</th>\n",
       "      <th>storage</th>\n",
       "      <th>screen_size</th>\n",
       "      <th>rating</th>\n",
       "      <th>price</th>\n",
       "    </tr>\n",
       "  </thead>\n",
       "  <tbody>\n",
       "    <tr>\n",
       "      <th>0</th>\n",
       "      <td>Lenovo</td>\n",
       "      <td>Lenovo IdeaPad 3 Core i3 11th</td>\n",
       "      <td>Intel Core i3</td>\n",
       "      <td>8 GB DDR4</td>\n",
       "      <td>11th Gen</td>\n",
       "      <td>64 bit Windows 11</td>\n",
       "      <td>256 GB SSD35.56</td>\n",
       "      <td>(14 inch)</td>\n",
       "      <td>4.2</td>\n",
       "      <td>₹36,990</td>\n",
       "    </tr>\n",
       "    <tr>\n",
       "      <th>1</th>\n",
       "      <td>Lenovo</td>\n",
       "      <td>Lenovo IdeaPad 3 Core i3 11th</td>\n",
       "      <td>Intel Core i3</td>\n",
       "      <td>8 GB DDR4</td>\n",
       "      <td>11th Gen</td>\n",
       "      <td>64 bit Windows 11</td>\n",
       "      <td>512 GB SSD39.62</td>\n",
       "      <td>(15.6 inch)</td>\n",
       "      <td>4.2</td>\n",
       "      <td>₹39,990</td>\n",
       "    </tr>\n",
       "    <tr>\n",
       "      <th>2</th>\n",
       "      <td>ASUS</td>\n",
       "      <td>ASUS VivoBook 15 (2022) Core i3</td>\n",
       "      <td>Intel Core i3</td>\n",
       "      <td>8 GB DDR4</td>\n",
       "      <td>10th Gen</td>\n",
       "      <td>64 bit Windows 11</td>\n",
       "      <td>512 GB SSD39.62</td>\n",
       "      <td>(15.6 inch)</td>\n",
       "      <td>4.3</td>\n",
       "      <td>₹32,990</td>\n",
       "    </tr>\n",
       "    <tr>\n",
       "      <th>3</th>\n",
       "      <td>HP</td>\n",
       "      <td>HP Pavilion Ryzen 5 Hexa Core</td>\n",
       "      <td>AMD Ryzen 5 Hexa Core</td>\n",
       "      <td>8 GB DDR4</td>\n",
       "      <td>8 GB DDR4</td>\n",
       "      <td>64 bit Windows 10</td>\n",
       "      <td>512 GB SSD39.62</td>\n",
       "      <td>(15.6 inch)</td>\n",
       "      <td>4.4</td>\n",
       "      <td>₹49,990</td>\n",
       "    </tr>\n",
       "    <tr>\n",
       "      <th>4</th>\n",
       "      <td>ASUS</td>\n",
       "      <td>ASUS TUF Gaming F15 Core i5</td>\n",
       "      <td>Intel Core i5</td>\n",
       "      <td>8 GB DDR4</td>\n",
       "      <td>10th Gen</td>\n",
       "      <td>Windows 11</td>\n",
       "      <td>512 GB SSD39.62</td>\n",
       "      <td>(15.6 inch)</td>\n",
       "      <td>4.4</td>\n",
       "      <td>₹49,990</td>\n",
       "    </tr>\n",
       "    <tr>\n",
       "      <th>...</th>\n",
       "      <td>...</td>\n",
       "      <td>...</td>\n",
       "      <td>...</td>\n",
       "      <td>...</td>\n",
       "      <td>...</td>\n",
       "      <td>...</td>\n",
       "      <td>...</td>\n",
       "      <td>...</td>\n",
       "      <td>...</td>\n",
       "      <td>...</td>\n",
       "    </tr>\n",
       "    <tr>\n",
       "      <th>418</th>\n",
       "      <td>DELL</td>\n",
       "      <td>DELL Core i5 12th Gen -</td>\n",
       "      <td>Intel Core i5</td>\n",
       "      <td>16 GB DDR5</td>\n",
       "      <td>12th Gen</td>\n",
       "      <td>64 bit Windows 11</td>\n",
       "      <td>512 GB SSD33.78</td>\n",
       "      <td>(13.3 Inch)</td>\n",
       "      <td>4.0</td>\n",
       "      <td>₹76,590</td>\n",
       "    </tr>\n",
       "    <tr>\n",
       "      <th>419</th>\n",
       "      <td>HP</td>\n",
       "      <td>HP Pavilion Ryzen 7 Octa Core</td>\n",
       "      <td>AMD Ryzen 7 Octa Core</td>\n",
       "      <td>16 GB DDR4</td>\n",
       "      <td>16 GB DDR4</td>\n",
       "      <td>64 bit Windows 10</td>\n",
       "      <td>512 GB SSD39.62</td>\n",
       "      <td>(15.6 inches)</td>\n",
       "      <td>4.6</td>\n",
       "      <td>₹90,000</td>\n",
       "    </tr>\n",
       "    <tr>\n",
       "      <th>420</th>\n",
       "      <td>ASUS</td>\n",
       "      <td>ASUS Chromebook Flip Touch Celeron Dual</td>\n",
       "      <td>Intel Celeron Dual Core</td>\n",
       "      <td>4 GB LPDDR4</td>\n",
       "      <td>4 GB LPDDR4</td>\n",
       "      <td>Chrome</td>\n",
       "      <td>29.46</td>\n",
       "      <td>(11.6 inch) Touchscreen</td>\n",
       "      <td>4.0</td>\n",
       "      <td>₹23,490</td>\n",
       "    </tr>\n",
       "    <tr>\n",
       "      <th>421</th>\n",
       "      <td>ASUS</td>\n",
       "      <td>ASUS Zenbook Flip 14 OLED (2022)</td>\n",
       "      <td>Intel Core i7</td>\n",
       "      <td>16 GB LPDDR5</td>\n",
       "      <td>12th Gen</td>\n",
       "      <td>64 bit Windows 11</td>\n",
       "      <td>512 GB SSD35.56</td>\n",
       "      <td>(14 inch) Touchscreen</td>\n",
       "      <td>3.0</td>\n",
       "      <td>₹1,25,990</td>\n",
       "    </tr>\n",
       "    <tr>\n",
       "      <th>422</th>\n",
       "      <td>Lenovo</td>\n",
       "      <td>Lenovo Ideapad Slim 3i Core i5</td>\n",
       "      <td>Intel Core i5</td>\n",
       "      <td>8 GB DDR4</td>\n",
       "      <td>10th Gen</td>\n",
       "      <td>64 bit Windows 10</td>\n",
       "      <td>1 TB HDD|256 GB SSD39.62</td>\n",
       "      <td>(15.6 inch)</td>\n",
       "      <td>4.2</td>\n",
       "      <td>₹50,990</td>\n",
       "    </tr>\n",
       "  </tbody>\n",
       "</table>\n",
       "<p>423 rows × 10 columns</p>\n",
       "</div>"
      ],
      "text/plain": [
       "    company_name                               model_name  \\\n",
       "0         Lenovo            Lenovo IdeaPad 3 Core i3 11th   \n",
       "1         Lenovo            Lenovo IdeaPad 3 Core i3 11th   \n",
       "2           ASUS          ASUS VivoBook 15 (2022) Core i3   \n",
       "3             HP            HP Pavilion Ryzen 5 Hexa Core   \n",
       "4           ASUS              ASUS TUF Gaming F15 Core i5   \n",
       "..           ...                                      ...   \n",
       "418         DELL                  DELL Core i5 12th Gen -   \n",
       "419           HP            HP Pavilion Ryzen 7 Octa Core   \n",
       "420         ASUS  ASUS Chromebook Flip Touch Celeron Dual   \n",
       "421         ASUS         ASUS Zenbook Flip 14 OLED (2022)   \n",
       "422       Lenovo           Lenovo Ideapad Slim 3i Core i5   \n",
       "\n",
       "               processor_name            ram processor_generation  \\\n",
       "0              Intel Core i3      8 GB DDR4              11th Gen   \n",
       "1              Intel Core i3      8 GB DDR4              11th Gen   \n",
       "2              Intel Core i3      8 GB DDR4              10th Gen   \n",
       "3      AMD Ryzen 5 Hexa Core      8 GB DDR4            8 GB DDR4    \n",
       "4              Intel Core i5      8 GB DDR4              10th Gen   \n",
       "..                        ...            ...                  ...   \n",
       "418            Intel Core i5     16 GB DDR5              12th Gen   \n",
       "419    AMD Ryzen 7 Octa Core     16 GB DDR4           16 GB DDR4    \n",
       "420  Intel Celeron Dual Core    4 GB LPDDR4          4 GB LPDDR4    \n",
       "421            Intel Core i7   16 GB LPDDR5              12th Gen   \n",
       "422            Intel Core i5      8 GB DDR4              10th Gen   \n",
       "\n",
       "       operating_system                    storage                screen_size  \\\n",
       "0    64 bit Windows 11            256 GB SSD35.56                  (14 inch)    \n",
       "1    64 bit Windows 11            512 GB SSD39.62                (15.6 inch)    \n",
       "2    64 bit Windows 11            512 GB SSD39.62                (15.6 inch)    \n",
       "3    64 bit Windows 10            512 GB SSD39.62                (15.6 inch)    \n",
       "4           Windows 11            512 GB SSD39.62                (15.6 inch)    \n",
       "..                  ...                        ...                        ...   \n",
       "418  64 bit Windows 11            512 GB SSD33.78                (13.3 Inch)    \n",
       "419  64 bit Windows 10            512 GB SSD39.62              (15.6 inches)    \n",
       "420             Chrome                      29.46    (11.6 inch) Touchscreen    \n",
       "421  64 bit Windows 11            512 GB SSD35.56      (14 inch) Touchscreen    \n",
       "422  64 bit Windows 10   1 TB HDD|256 GB SSD39.62                (15.6 inch)    \n",
       "\n",
       "     rating      price  \n",
       "0       4.2    ₹36,990  \n",
       "1       4.2    ₹39,990  \n",
       "2       4.3    ₹32,990  \n",
       "3       4.4    ₹49,990  \n",
       "4       4.4    ₹49,990  \n",
       "..      ...        ...  \n",
       "418     4.0    ₹76,590  \n",
       "419     4.6    ₹90,000  \n",
       "420     4.0    ₹23,490  \n",
       "421     3.0  ₹1,25,990  \n",
       "422     4.2    ₹50,990  \n",
       "\n",
       "[423 rows x 10 columns]"
      ]
     },
     "execution_count": 44,
     "metadata": {},
     "output_type": "execute_result"
    }
   ],
   "source": [
    "df1"
   ]
  },
  {
   "cell_type": "code",
   "execution_count": 46,
   "id": "5d406009",
   "metadata": {},
   "outputs": [
    {
     "data": {
      "text/plain": [
       "11th Gen                                                                                                               118\n",
       "8 GB DDR4                                                                                                               75\n",
       "12th Gen                                                                                                                66\n",
       "10th Gen                                                                                                                53\n",
       "16 GB DDR4                                                                                                              30\n",
       "16 GB DDR5                                                                                                              15\n",
       "4 GB DDR4                                                                                                                8\n",
       "4 GB LPDDR4                                                                                                              7\n",
       "16 GB Unified Memory                                                                                                     6\n",
       "8 GB Unified Memory                                                                                                      5\n",
       "4th Gen                                                                                                                  4\n",
       "16 GB LPDDR5                                                                                                             4\n",
       "9th Gen                                                                                                                  3\n",
       "4 GB LPDDR4X                                                                                                             3\n",
       "8th Gen                                                                                                                  3\n",
       "8 GB DDR5                                                                                                                2\n",
       "5th Gen                                                                                                                  2\n",
       "Base- 1.70 GHz & Turbo up to 4.10 GHz                                                                                    2\n",
       "32 GB DDR5                                                                                                               2\n",
       "7th Gen                                                                                                                  1\n",
       "2.30 GHz up to 4.60 GHz                                                                                                  1\n",
       "16 GB LPDDR4X                                                                                                            1\n",
       ": 10th Generation Intel Core i3-1005G1                                                                                   1\n",
       ": 11th Generation Intel Core i5-1135G7                                                                                   1\n",
       "2.60 GHz up to 3.50 GHz                                                                                                  1\n",
       "2.10 GHz up to 3.50 GHz                                                                                                  1\n",
       "2.00 GHz up to 3.70 GHz                                                                                                  1\n",
       "3rd Gen                                                                                                                  1\n",
       "32 GB Unified Memory                                                                                                     1\n",
       "1.10 GHz up to 3.10 GHz                                                                                                  1\n",
       "8 GB LPDDR4X                                                                                                             1\n",
       "3.30 GHz up to 4.20 GHz                                                                                                  1\n",
       "Microsoft Office 2019 Home & Student IncludedStylish Thin and Light Laptop without Optical Disk DriveIntel Core i5       1\n",
       "32 GB LPDDR4X                                                                                                            1\n",
       "Name: processor_generation, dtype: int64"
      ]
     },
     "execution_count": 46,
     "metadata": {},
     "output_type": "execute_result"
    }
   ],
   "source": [
    "df1[\"processor_generation\"].value_counts()"
   ]
  },
  {
   "cell_type": "code",
   "execution_count": 47,
   "id": "50efb0f8",
   "metadata": {},
   "outputs": [],
   "source": [
    "def processor_filter(s):\n",
    "        if \"Gen\" in s:\n",
    "            return s\n",
    "        else:\n",
    "            return np.NAN            "
   ]
  },
  {
   "cell_type": "code",
   "execution_count": 50,
   "id": "51c991b4",
   "metadata": {},
   "outputs": [
    {
     "data": {
      "text/plain": [
       "'3rd Gen'"
      ]
     },
     "execution_count": 50,
     "metadata": {},
     "output_type": "execute_result"
    }
   ],
   "source": [
    "processor_filter(\"3rd Gen\")"
   ]
  },
  {
   "cell_type": "code",
   "execution_count": 52,
   "id": "b79a86ab",
   "metadata": {},
   "outputs": [],
   "source": [
    "df1[\"processor_generation\"] = df1[\"processor_generation\"].apply(processor_filter)"
   ]
  },
  {
   "cell_type": "code",
   "execution_count": 55,
   "id": "91a929e2",
   "metadata": {},
   "outputs": [
    {
     "data": {
      "text/html": [
       "<div>\n",
       "<style scoped>\n",
       "    .dataframe tbody tr th:only-of-type {\n",
       "        vertical-align: middle;\n",
       "    }\n",
       "\n",
       "    .dataframe tbody tr th {\n",
       "        vertical-align: top;\n",
       "    }\n",
       "\n",
       "    .dataframe thead th {\n",
       "        text-align: right;\n",
       "    }\n",
       "</style>\n",
       "<table border=\"1\" class=\"dataframe\">\n",
       "  <thead>\n",
       "    <tr style=\"text-align: right;\">\n",
       "      <th></th>\n",
       "      <th>company_name</th>\n",
       "      <th>model_name</th>\n",
       "      <th>processor_name</th>\n",
       "      <th>ram</th>\n",
       "      <th>processor_generation</th>\n",
       "      <th>operating_system</th>\n",
       "      <th>storage</th>\n",
       "      <th>screen_size</th>\n",
       "      <th>rating</th>\n",
       "      <th>price</th>\n",
       "    </tr>\n",
       "  </thead>\n",
       "  <tbody>\n",
       "    <tr>\n",
       "      <th>0</th>\n",
       "      <td>Lenovo</td>\n",
       "      <td>Lenovo IdeaPad 3 Core i3 11th</td>\n",
       "      <td>Intel Core i3</td>\n",
       "      <td>8 GB DDR4</td>\n",
       "      <td>11th Gen</td>\n",
       "      <td>64 bit Windows 11</td>\n",
       "      <td>256 GB SSD35.56</td>\n",
       "      <td>(14 inch)</td>\n",
       "      <td>4.2</td>\n",
       "      <td>₹36,990</td>\n",
       "    </tr>\n",
       "    <tr>\n",
       "      <th>1</th>\n",
       "      <td>Lenovo</td>\n",
       "      <td>Lenovo IdeaPad 3 Core i3 11th</td>\n",
       "      <td>Intel Core i3</td>\n",
       "      <td>8 GB DDR4</td>\n",
       "      <td>11th Gen</td>\n",
       "      <td>64 bit Windows 11</td>\n",
       "      <td>512 GB SSD39.62</td>\n",
       "      <td>(15.6 inch)</td>\n",
       "      <td>4.2</td>\n",
       "      <td>₹39,990</td>\n",
       "    </tr>\n",
       "    <tr>\n",
       "      <th>2</th>\n",
       "      <td>ASUS</td>\n",
       "      <td>ASUS VivoBook 15 (2022) Core i3</td>\n",
       "      <td>Intel Core i3</td>\n",
       "      <td>8 GB DDR4</td>\n",
       "      <td>10th Gen</td>\n",
       "      <td>64 bit Windows 11</td>\n",
       "      <td>512 GB SSD39.62</td>\n",
       "      <td>(15.6 inch)</td>\n",
       "      <td>4.3</td>\n",
       "      <td>₹32,990</td>\n",
       "    </tr>\n",
       "    <tr>\n",
       "      <th>3</th>\n",
       "      <td>HP</td>\n",
       "      <td>HP Pavilion Ryzen 5 Hexa Core</td>\n",
       "      <td>AMD Ryzen 5 Hexa Core</td>\n",
       "      <td>8 GB DDR4</td>\n",
       "      <td>NaN</td>\n",
       "      <td>64 bit Windows 10</td>\n",
       "      <td>512 GB SSD39.62</td>\n",
       "      <td>(15.6 inch)</td>\n",
       "      <td>4.4</td>\n",
       "      <td>₹49,990</td>\n",
       "    </tr>\n",
       "    <tr>\n",
       "      <th>4</th>\n",
       "      <td>ASUS</td>\n",
       "      <td>ASUS TUF Gaming F15 Core i5</td>\n",
       "      <td>Intel Core i5</td>\n",
       "      <td>8 GB DDR4</td>\n",
       "      <td>10th Gen</td>\n",
       "      <td>Windows 11</td>\n",
       "      <td>512 GB SSD39.62</td>\n",
       "      <td>(15.6 inch)</td>\n",
       "      <td>4.4</td>\n",
       "      <td>₹49,990</td>\n",
       "    </tr>\n",
       "    <tr>\n",
       "      <th>...</th>\n",
       "      <td>...</td>\n",
       "      <td>...</td>\n",
       "      <td>...</td>\n",
       "      <td>...</td>\n",
       "      <td>...</td>\n",
       "      <td>...</td>\n",
       "      <td>...</td>\n",
       "      <td>...</td>\n",
       "      <td>...</td>\n",
       "      <td>...</td>\n",
       "    </tr>\n",
       "    <tr>\n",
       "      <th>418</th>\n",
       "      <td>DELL</td>\n",
       "      <td>DELL Core i5 12th Gen -</td>\n",
       "      <td>Intel Core i5</td>\n",
       "      <td>16 GB DDR5</td>\n",
       "      <td>12th Gen</td>\n",
       "      <td>64 bit Windows 11</td>\n",
       "      <td>512 GB SSD33.78</td>\n",
       "      <td>(13.3 Inch)</td>\n",
       "      <td>4.0</td>\n",
       "      <td>₹76,590</td>\n",
       "    </tr>\n",
       "    <tr>\n",
       "      <th>419</th>\n",
       "      <td>HP</td>\n",
       "      <td>HP Pavilion Ryzen 7 Octa Core</td>\n",
       "      <td>AMD Ryzen 7 Octa Core</td>\n",
       "      <td>16 GB DDR4</td>\n",
       "      <td>NaN</td>\n",
       "      <td>64 bit Windows 10</td>\n",
       "      <td>512 GB SSD39.62</td>\n",
       "      <td>(15.6 inches)</td>\n",
       "      <td>4.6</td>\n",
       "      <td>₹90,000</td>\n",
       "    </tr>\n",
       "    <tr>\n",
       "      <th>420</th>\n",
       "      <td>ASUS</td>\n",
       "      <td>ASUS Chromebook Flip Touch Celeron Dual</td>\n",
       "      <td>Intel Celeron Dual Core</td>\n",
       "      <td>4 GB LPDDR4</td>\n",
       "      <td>NaN</td>\n",
       "      <td>Chrome</td>\n",
       "      <td>29.46</td>\n",
       "      <td>(11.6 inch) Touchscreen</td>\n",
       "      <td>4.0</td>\n",
       "      <td>₹23,490</td>\n",
       "    </tr>\n",
       "    <tr>\n",
       "      <th>421</th>\n",
       "      <td>ASUS</td>\n",
       "      <td>ASUS Zenbook Flip 14 OLED (2022)</td>\n",
       "      <td>Intel Core i7</td>\n",
       "      <td>16 GB LPDDR5</td>\n",
       "      <td>12th Gen</td>\n",
       "      <td>64 bit Windows 11</td>\n",
       "      <td>512 GB SSD35.56</td>\n",
       "      <td>(14 inch) Touchscreen</td>\n",
       "      <td>3.0</td>\n",
       "      <td>₹1,25,990</td>\n",
       "    </tr>\n",
       "    <tr>\n",
       "      <th>422</th>\n",
       "      <td>Lenovo</td>\n",
       "      <td>Lenovo Ideapad Slim 3i Core i5</td>\n",
       "      <td>Intel Core i5</td>\n",
       "      <td>8 GB DDR4</td>\n",
       "      <td>10th Gen</td>\n",
       "      <td>64 bit Windows 10</td>\n",
       "      <td>1 TB HDD|256 GB SSD39.62</td>\n",
       "      <td>(15.6 inch)</td>\n",
       "      <td>4.2</td>\n",
       "      <td>₹50,990</td>\n",
       "    </tr>\n",
       "  </tbody>\n",
       "</table>\n",
       "<p>423 rows × 10 columns</p>\n",
       "</div>"
      ],
      "text/plain": [
       "    company_name                               model_name  \\\n",
       "0         Lenovo            Lenovo IdeaPad 3 Core i3 11th   \n",
       "1         Lenovo            Lenovo IdeaPad 3 Core i3 11th   \n",
       "2           ASUS          ASUS VivoBook 15 (2022) Core i3   \n",
       "3             HP            HP Pavilion Ryzen 5 Hexa Core   \n",
       "4           ASUS              ASUS TUF Gaming F15 Core i5   \n",
       "..           ...                                      ...   \n",
       "418         DELL                  DELL Core i5 12th Gen -   \n",
       "419           HP            HP Pavilion Ryzen 7 Octa Core   \n",
       "420         ASUS  ASUS Chromebook Flip Touch Celeron Dual   \n",
       "421         ASUS         ASUS Zenbook Flip 14 OLED (2022)   \n",
       "422       Lenovo           Lenovo Ideapad Slim 3i Core i5   \n",
       "\n",
       "               processor_name            ram processor_generation  \\\n",
       "0              Intel Core i3      8 GB DDR4              11th Gen   \n",
       "1              Intel Core i3      8 GB DDR4              11th Gen   \n",
       "2              Intel Core i3      8 GB DDR4              10th Gen   \n",
       "3      AMD Ryzen 5 Hexa Core      8 GB DDR4                   NaN   \n",
       "4              Intel Core i5      8 GB DDR4              10th Gen   \n",
       "..                        ...            ...                  ...   \n",
       "418            Intel Core i5     16 GB DDR5              12th Gen   \n",
       "419    AMD Ryzen 7 Octa Core     16 GB DDR4                   NaN   \n",
       "420  Intel Celeron Dual Core    4 GB LPDDR4                   NaN   \n",
       "421            Intel Core i7   16 GB LPDDR5              12th Gen   \n",
       "422            Intel Core i5      8 GB DDR4              10th Gen   \n",
       "\n",
       "       operating_system                    storage                screen_size  \\\n",
       "0    64 bit Windows 11            256 GB SSD35.56                  (14 inch)    \n",
       "1    64 bit Windows 11            512 GB SSD39.62                (15.6 inch)    \n",
       "2    64 bit Windows 11            512 GB SSD39.62                (15.6 inch)    \n",
       "3    64 bit Windows 10            512 GB SSD39.62                (15.6 inch)    \n",
       "4           Windows 11            512 GB SSD39.62                (15.6 inch)    \n",
       "..                  ...                        ...                        ...   \n",
       "418  64 bit Windows 11            512 GB SSD33.78                (13.3 Inch)    \n",
       "419  64 bit Windows 10            512 GB SSD39.62              (15.6 inches)    \n",
       "420             Chrome                      29.46    (11.6 inch) Touchscreen    \n",
       "421  64 bit Windows 11            512 GB SSD35.56      (14 inch) Touchscreen    \n",
       "422  64 bit Windows 10   1 TB HDD|256 GB SSD39.62                (15.6 inch)    \n",
       "\n",
       "     rating      price  \n",
       "0       4.2    ₹36,990  \n",
       "1       4.2    ₹39,990  \n",
       "2       4.3    ₹32,990  \n",
       "3       4.4    ₹49,990  \n",
       "4       4.4    ₹49,990  \n",
       "..      ...        ...  \n",
       "418     4.0    ₹76,590  \n",
       "419     4.6    ₹90,000  \n",
       "420     4.0    ₹23,490  \n",
       "421     3.0  ₹1,25,990  \n",
       "422     4.2    ₹50,990  \n",
       "\n",
       "[423 rows x 10 columns]"
      ]
     },
     "execution_count": 55,
     "metadata": {},
     "output_type": "execute_result"
    }
   ],
   "source": [
    "df1"
   ]
  },
  {
   "cell_type": "code",
   "execution_count": 64,
   "id": "fce11c3f",
   "metadata": {},
   "outputs": [],
   "source": [
    "df1[\"screen_size(inch)\"] = df1[\"screen_size\"].apply(lambda x : x.split(\"inch\")[0].replace(\"(\",\"\").replace(\")\",\"\").replace(\"Inch\",\"\"))"
   ]
  },
  {
   "cell_type": "code",
   "execution_count": 68,
   "id": "6be69379",
   "metadata": {},
   "outputs": [
    {
     "data": {
      "text/plain": [
       "(423, 11)"
      ]
     },
     "execution_count": 68,
     "metadata": {},
     "output_type": "execute_result"
    }
   ],
   "source": [
    "df1.shape"
   ]
  },
  {
   "cell_type": "code",
   "execution_count": 69,
   "id": "bcd720d6",
   "metadata": {},
   "outputs": [],
   "source": [
    "df1 = df1.drop([\"screen_size\"], axis=1)"
   ]
  },
  {
   "cell_type": "code",
   "execution_count": 70,
   "id": "4a2122f8",
   "metadata": {},
   "outputs": [
    {
     "data": {
      "text/plain": [
       "(423, 10)"
      ]
     },
     "execution_count": 70,
     "metadata": {},
     "output_type": "execute_result"
    }
   ],
   "source": [
    "df1.shape"
   ]
  },
  {
   "cell_type": "code",
   "execution_count": 78,
   "id": "43b632ac",
   "metadata": {},
   "outputs": [
    {
     "data": {
      "text/plain": [
       "0.40189125295508277"
      ]
     },
     "execution_count": 78,
     "metadata": {},
     "output_type": "execute_result"
    }
   ],
   "source": [
    "df1[\"processor_generation\"].isna().mean()"
   ]
  },
  {
   "cell_type": "code",
   "execution_count": 77,
   "id": "c97d9169",
   "metadata": {},
   "outputs": [],
   "source": [
    "df1[\"processor_generation\"] = df1[\"processor_generation\"].str.replace(\": 11th Generation Intel Core i5-1135G7\", \"11th Gen\").replace(\": 10th Generation Intel Core i3-1005G1\",\"10th Gen\")"
   ]
  },
  {
   "cell_type": "code",
   "execution_count": 80,
   "id": "03d003a5",
   "metadata": {},
   "outputs": [],
   "source": [
    "df1.to_csv(\"cleaned_data\", index=False)"
   ]
  },
  {
   "cell_type": "code",
   "execution_count": null,
   "id": "3f063f8f",
   "metadata": {},
   "outputs": [],
   "source": []
  }
 ],
 "metadata": {
  "kernelspec": {
   "display_name": "Python 3 (ipykernel)",
   "language": "python",
   "name": "python3"
  },
  "language_info": {
   "codemirror_mode": {
    "name": "ipython",
    "version": 3
   },
   "file_extension": ".py",
   "mimetype": "text/x-python",
   "name": "python",
   "nbconvert_exporter": "python",
   "pygments_lexer": "ipython3",
   "version": "3.9.12"
  }
 },
 "nbformat": 4,
 "nbformat_minor": 5
}
